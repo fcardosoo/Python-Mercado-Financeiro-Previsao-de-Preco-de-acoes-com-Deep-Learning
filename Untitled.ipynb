{
 "cells": [
  {
   "cell_type": "markdown",
   "id": "e087e4da",
   "metadata": {},
   "source": [
    "# Modelo de DEEP LEARNING baseado na memória de curto prazo - LSTM"
   ]
  },
  {
   "cell_type": "markdown",
   "id": "d191bdb3",
   "metadata": {},
   "source": [
    "## 1. Bibliotecas"
   ]
  },
  {
   "cell_type": "code",
   "execution_count": 5,
   "id": "f54d6bbb",
   "metadata": {},
   "outputs": [
    {
     "ename": "OptionError",
     "evalue": "You can only set the value of existing options",
     "output_type": "error",
     "traceback": [
      "\u001b[1;31m---------------------------------------------------------------------------\u001b[0m",
      "\u001b[1;31mOptionError\u001b[0m                               Traceback (most recent call last)",
      "Cell \u001b[1;32mIn[5], line 15\u001b[0m\n\u001b[0;32m     12\u001b[0m \u001b[38;5;28;01mfrom\u001b[39;00m \u001b[38;5;21;01mkeras\u001b[39;00m\u001b[38;5;21;01m.\u001b[39;00m\u001b[38;5;21;01mmodels\u001b[39;00m \u001b[38;5;28;01mimport\u001b[39;00m Sequential\n\u001b[0;32m     13\u001b[0m \u001b[38;5;28;01mfrom\u001b[39;00m \u001b[38;5;21;01mkeras\u001b[39;00m\u001b[38;5;21;01m.\u001b[39;00m\u001b[38;5;21;01mlayers\u001b[39;00m \u001b[38;5;28;01mimport\u001b[39;00m Dense, LSTM\n\u001b[1;32m---> 15\u001b[0m pd\u001b[38;5;241m.\u001b[39moptions\u001b[38;5;241m.\u001b[39mmode\u001b[38;5;241m.\u001b[39mchained_assigment \u001b[38;5;241m=\u001b[39m \u001b[38;5;28;01mNone\u001b[39;00m\n",
      "File \u001b[1;32m~\\anaconda3\\lib\\site-packages\\pandas\\_config\\config.py:228\u001b[0m, in \u001b[0;36mDictWrapper.__setattr__\u001b[1;34m(self, key, val)\u001b[0m\n\u001b[0;32m    226\u001b[0m     _set_option(prefix, val)\n\u001b[0;32m    227\u001b[0m \u001b[38;5;28;01melse\u001b[39;00m:\n\u001b[1;32m--> 228\u001b[0m     \u001b[38;5;28;01mraise\u001b[39;00m OptionError(\u001b[38;5;124m\"\u001b[39m\u001b[38;5;124mYou can only set the value of existing options\u001b[39m\u001b[38;5;124m\"\u001b[39m)\n",
      "\u001b[1;31mOptionError\u001b[0m: You can only set the value of existing options"
     ]
    }
   ],
   "source": [
    "import math\n",
    "import numpy                  as np\n",
    "import pandas                 as pd\n",
    "import yfinance               as \n",
    "\n",
    "import matplotlib.pyplot      as plt\n",
    "\n",
    "from datetime                 import datetime\n",
    "from datetime                 import timedelta\n",
    "\n",
    "from sklearn.preprocessing    import MinMaxScaler\n",
    "\n",
    "from keras.models             import Sequential\n",
    "from keras.layers             import Dense, LSTM\n",
    "\n",
    "pd.options.mode.chained_assigment = None"
   ]
  },
  {
   "cell_type": "markdown",
   "id": "3b37e146",
   "metadata": {},
   "source": [
    "## Ativo de interesse"
   ]
  },
  {
   "cell_type": "code",
   "execution_count": null,
   "id": "ae9d8041",
   "metadata": {},
   "outputs": [],
   "source": [
    "acao = 'MGLU3.SA'\n",
    "\n",
    "inicio = '2014-12-31'\n",
    "final  = '2023-05-26'\n",
    "\n",
    "dados_acao = "
   ]
  }
 ],
 "metadata": {
  "kernelspec": {
   "display_name": "Python 3 (ipykernel)",
   "language": "python",
   "name": "python3"
  },
  "language_info": {
   "codemirror_mode": {
    "name": "ipython",
    "version": 3
   },
   "file_extension": ".py",
   "mimetype": "text/x-python",
   "name": "python",
   "nbconvert_exporter": "python",
   "pygments_lexer": "ipython3",
   "version": "3.10.9"
  }
 },
 "nbformat": 4,
 "nbformat_minor": 5
}
