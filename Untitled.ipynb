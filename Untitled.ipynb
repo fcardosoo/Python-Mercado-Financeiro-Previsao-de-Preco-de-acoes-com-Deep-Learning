{
 "cells": [
  {
   "cell_type": "markdown",
   "id": "42a311a9",
   "metadata": {},
   "source": [
    "# Modelo de DEEP LEARNING baseado na memória de curto prazo - LSTM"
   ]
  },
  {
   "cell_type": "markdown",
   "id": "b86796f7",
   "metadata": {},
   "source": [
    "## 1. Bibliotecas"
   ]
  },
  {
   "cell_type": "code",
   "execution_count": 8,
   "id": "3a61e86e",
   "metadata": {},
   "outputs": [],
   "source": [
    "import math\n",
    "import numpy                  as np\n",
    "import pandas                 as pd\n",
    "import yfinance               as yf\n",
    "\n",
    "import matplotlib.pyplot      as plt\n",
    "\n",
    "from datetime                 import datetime\n",
    "from datetime                 import timedelta\n",
    "\n",
    "from sklearn.preprocessing    import MinMaxScaler\n",
    "\n",
    "from keras.models             import Sequential\n",
    "from keras.layers             import Dense, LSTM\n",
    "\n",
    "# pd.options.mode.chained_assigment = None"
   ]
  },
  {
   "cell_type": "markdown",
   "id": "a2613f3a",
   "metadata": {},
   "source": [
    "## Ativo de interesse"
   ]
  },
  {
   "cell_type": "code",
   "execution_count": 11,
   "id": "9052c5b7",
   "metadata": {},
   "outputs": [
    {
     "name": "stdout",
     "output_type": "stream",
     "text": [
      "[*********************100%***********************]  1 of 1 completed\n"
     ]
    },
    {
     "data": {
      "text/html": [
       "<div>\n",
       "<style scoped>\n",
       "    .dataframe tbody tr th:only-of-type {\n",
       "        vertical-align: middle;\n",
       "    }\n",
       "\n",
       "    .dataframe tbody tr th {\n",
       "        vertical-align: top;\n",
       "    }\n",
       "\n",
       "    .dataframe thead th {\n",
       "        text-align: right;\n",
       "    }\n",
       "</style>\n",
       "<table border=\"1\" class=\"dataframe\">\n",
       "  <thead>\n",
       "    <tr style=\"text-align: right;\">\n",
       "      <th></th>\n",
       "      <th>Open</th>\n",
       "      <th>High</th>\n",
       "      <th>Low</th>\n",
       "      <th>Close</th>\n",
       "      <th>Adj Close</th>\n",
       "      <th>Volume</th>\n",
       "    </tr>\n",
       "    <tr>\n",
       "      <th>Date</th>\n",
       "      <th></th>\n",
       "      <th></th>\n",
       "      <th></th>\n",
       "      <th></th>\n",
       "      <th></th>\n",
       "      <th></th>\n",
       "    </tr>\n",
       "  </thead>\n",
       "  <tbody>\n",
       "    <tr>\n",
       "      <th>2015-01-02</th>\n",
       "      <td>0.243750</td>\n",
       "      <td>0.243750</td>\n",
       "      <td>0.231562</td>\n",
       "      <td>0.232812</td>\n",
       "      <td>0.215259</td>\n",
       "      <td>6323200</td>\n",
       "    </tr>\n",
       "    <tr>\n",
       "      <th>2015-01-05</th>\n",
       "      <td>0.235625</td>\n",
       "      <td>0.240625</td>\n",
       "      <td>0.229687</td>\n",
       "      <td>0.237187</td>\n",
       "      <td>0.219304</td>\n",
       "      <td>10326400</td>\n",
       "    </tr>\n",
       "    <tr>\n",
       "      <th>2015-01-06</th>\n",
       "      <td>0.238437</td>\n",
       "      <td>0.238437</td>\n",
       "      <td>0.233125</td>\n",
       "      <td>0.234062</td>\n",
       "      <td>0.216414</td>\n",
       "      <td>12572800</td>\n",
       "    </tr>\n",
       "    <tr>\n",
       "      <th>2015-01-07</th>\n",
       "      <td>0.237500</td>\n",
       "      <td>0.242187</td>\n",
       "      <td>0.234687</td>\n",
       "      <td>0.241875</td>\n",
       "      <td>0.223638</td>\n",
       "      <td>6454400</td>\n",
       "    </tr>\n",
       "    <tr>\n",
       "      <th>2015-01-08</th>\n",
       "      <td>0.239375</td>\n",
       "      <td>0.242187</td>\n",
       "      <td>0.237500</td>\n",
       "      <td>0.240000</td>\n",
       "      <td>0.221905</td>\n",
       "      <td>8393600</td>\n",
       "    </tr>\n",
       "    <tr>\n",
       "      <th>...</th>\n",
       "      <td>...</td>\n",
       "      <td>...</td>\n",
       "      <td>...</td>\n",
       "      <td>...</td>\n",
       "      <td>...</td>\n",
       "      <td>...</td>\n",
       "    </tr>\n",
       "    <tr>\n",
       "      <th>2023-05-19</th>\n",
       "      <td>3.580000</td>\n",
       "      <td>3.730000</td>\n",
       "      <td>3.530000</td>\n",
       "      <td>3.640000</td>\n",
       "      <td>3.640000</td>\n",
       "      <td>146332000</td>\n",
       "    </tr>\n",
       "    <tr>\n",
       "      <th>2023-05-22</th>\n",
       "      <td>3.670000</td>\n",
       "      <td>3.870000</td>\n",
       "      <td>3.660000</td>\n",
       "      <td>3.800000</td>\n",
       "      <td>3.800000</td>\n",
       "      <td>126815600</td>\n",
       "    </tr>\n",
       "    <tr>\n",
       "      <th>2023-05-23</th>\n",
       "      <td>3.830000</td>\n",
       "      <td>3.840000</td>\n",
       "      <td>3.640000</td>\n",
       "      <td>3.660000</td>\n",
       "      <td>3.660000</td>\n",
       "      <td>114830900</td>\n",
       "    </tr>\n",
       "    <tr>\n",
       "      <th>2023-05-24</th>\n",
       "      <td>3.510000</td>\n",
       "      <td>3.720000</td>\n",
       "      <td>3.480000</td>\n",
       "      <td>3.630000</td>\n",
       "      <td>3.630000</td>\n",
       "      <td>105054300</td>\n",
       "    </tr>\n",
       "    <tr>\n",
       "      <th>2023-05-25</th>\n",
       "      <td>3.740000</td>\n",
       "      <td>3.820000</td>\n",
       "      <td>3.720000</td>\n",
       "      <td>3.760000</td>\n",
       "      <td>3.760000</td>\n",
       "      <td>119519600</td>\n",
       "    </tr>\n",
       "  </tbody>\n",
       "</table>\n",
       "<p>2087 rows × 6 columns</p>\n",
       "</div>"
      ],
      "text/plain": [
       "                Open      High       Low     Close  Adj Close     Volume\n",
       "Date                                                                    \n",
       "2015-01-02  0.243750  0.243750  0.231562  0.232812   0.215259    6323200\n",
       "2015-01-05  0.235625  0.240625  0.229687  0.237187   0.219304   10326400\n",
       "2015-01-06  0.238437  0.238437  0.233125  0.234062   0.216414   12572800\n",
       "2015-01-07  0.237500  0.242187  0.234687  0.241875   0.223638    6454400\n",
       "2015-01-08  0.239375  0.242187  0.237500  0.240000   0.221905    8393600\n",
       "...              ...       ...       ...       ...        ...        ...\n",
       "2023-05-19  3.580000  3.730000  3.530000  3.640000   3.640000  146332000\n",
       "2023-05-22  3.670000  3.870000  3.660000  3.800000   3.800000  126815600\n",
       "2023-05-23  3.830000  3.840000  3.640000  3.660000   3.660000  114830900\n",
       "2023-05-24  3.510000  3.720000  3.480000  3.630000   3.630000  105054300\n",
       "2023-05-25  3.740000  3.820000  3.720000  3.760000   3.760000  119519600\n",
       "\n",
       "[2087 rows x 6 columns]"
      ]
     },
     "execution_count": 11,
     "metadata": {},
     "output_type": "execute_result"
    }
   ],
   "source": [
    "acao = 'MGLU3.SA'\n",
    "\n",
    "inicio = '2014-12-31'\n",
    "final  = '2023-05-26'\n",
    "\n",
    "dados_acao = yf.download(acao, inicio, final)\n",
    "\n",
    "dados_acao"
   ]
  },
  {
   "cell_type": "code",
   "execution_count": 13,
   "id": "b9af65b6",
   "metadata": {},
   "outputs": [
    {
     "data": {
      "text/plain": [
       "array([[0.232812  ],\n",
       "       [0.237187  ],\n",
       "       [0.234062  ],\n",
       "       ...,\n",
       "       [3.66000009],\n",
       "       [3.63000011],\n",
       "       [3.75999999]])"
      ]
     },
     "execution_count": 13,
     "metadata": {},
     "output_type": "execute_result"
    }
   ],
   "source": [
    "# Selecionaremos o valor de fechamento 'Close', ao invés da cotação ajustada 'Adj Close' (mais comunmente encontrada\n",
    "# nos modelos de financças), pois precisamos de uma cotação real;\n",
    "\n",
    "cotacao = dados_acao['Close'].to_numpy().reshape(-1,1) # reescalando os dados com o numpy\n",
    "cotacao"
   ]
  },
  {
   "cell_type": "code",
   "execution_count": 15,
   "id": "95ae7d38",
   "metadata": {},
   "outputs": [
    {
     "data": {
      "text/plain": [
       "1669"
      ]
     },
     "execution_count": 15,
     "metadata": {},
     "output_type": "execute_result"
    }
   ],
   "source": [
    "# Selecionaremos 80% dos dados para o treinamento\n",
    "\n",
    "tamanho_dados_treinamento = int(len(cotacao) * 0.8)\n",
    "tamanho_dados_treinamento"
   ]
  },
  {
   "cell_type": "code",
   "execution_count": null,
   "id": "35ea4546",
   "metadata": {},
   "outputs": [],
   "source": [
    "# \n",
    "\n",
    "escalador = MinMaxScaler(feature_range=(0, 1))\n",
    "\n",
    "dados_entre_0_e_1_treinamento = escalador.fit_transform(cotacao[0:tamanho_dados_treinamento, :])\n",
    "\n",
    "dados_entre_0_e_1_teste = escalador.transform(cotacao[tamanho_dados_treinamento: , :])\n",
    "\n",
    "dados_entre_0_e_1 = list(dados_entre_0_e_1_treinamento.reshape(\n",
    "    len(dados_entre_0_e_1_treinamento))) + list(dados_entre_0_e_1_teste.reshape(len(dados_entre_0_e_1_teste)))\n",
    "\n",
    "dados_entre_0_e_1 = np.array(dados_entre_0_e_1).reshape(len(dados_entre_0_e_1), 1)\n",
    "\n",
    "dados_entre_0_e_1"
   ]
  }
 ],
 "metadata": {
  "kernelspec": {
   "display_name": "Python 3 (ipykernel)",
   "language": "python",
   "name": "python3"
  },
  "language_info": {
   "codemirror_mode": {
    "name": "ipython",
    "version": 3
   },
   "file_extension": ".py",
   "mimetype": "text/x-python",
   "name": "python",
   "nbconvert_exporter": "python",
   "pygments_lexer": "ipython3",
   "version": "3.10.9"
  }
 },
 "nbformat": 4,
 "nbformat_minor": 5
}
