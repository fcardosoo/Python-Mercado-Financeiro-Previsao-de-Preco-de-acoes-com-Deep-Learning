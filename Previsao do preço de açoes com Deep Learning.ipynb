{
 "cells": [
  {
   "cell_type": "markdown",
   "id": "bc240e42",
   "metadata": {},
   "source": [
    "# Modelo de DEEP LEARNING baseado na memória de curto prazo - LSTM"
   ]
  },
  {
   "cell_type": "markdown",
   "id": "7adf57a2",
   "metadata": {},
   "source": [
    "## 1. Bibliotecas"
   ]
  },
  {
   "cell_type": "code",
   "execution_count": null,
   "id": "830a4eaf",
   "metadata": {},
   "outputs": [],
   "source": [
    "import math\n",
    "import numpy                  as np\n",
    "import pandas                 as pd\n",
    "import yfinance               as yf\n",
    "\n",
    "import matplotlib.pyplot      as plt\n",
    "\n",
    "from datetime                 import datetime\n",
    "from datetime                 import timedelta\n",
    "\n",
    "from sklearn.preprocessing    import MinMaxScaler\n",
    "\n",
    "from keras.models             import Sequential\n",
    "from keras.layers             import Dense, LSTM\n",
    "\n",
    "# pd.options.mode.chained_assigment = None"
   ]
  },
  {
   "cell_type": "markdown",
   "id": "87a7d79b",
   "metadata": {},
   "source": [
    "## 2. Ativo de interesse"
   ]
  },
  {
   "cell_type": "code",
   "execution_count": null,
   "id": "21fb7973",
   "metadata": {},
   "outputs": [],
   "source": [
    "acao = 'MGLU3.SA'\n",
    "\n",
    "inicio = '2014-12-31'\n",
    "final  = '2023-05-26'\n",
    "\n",
    "dados_acao = yf.download(acao, inicio, final)\n",
    "\n",
    "dados_acao"
   ]
  },
  {
   "cell_type": "code",
   "execution_count": null,
   "id": "8a6c0b2b",
   "metadata": {},
   "outputs": [],
   "source": [
    "# Selecionaremos o valor de fechamento 'Close', ao invés da cotação ajustada 'Adj Close' (mais comunmente encontrada\n",
    "# nos modelos de financças), pois precisamos de uma cotação real;\n",
    "\n",
    "cotacao = dados_acao['Close'].to_numpy().reshape(-1, 1) # reescalando os dados com o numpy\n",
    "cotacao"
   ]
  },
  {
   "cell_type": "code",
   "execution_count": null,
   "id": "aae00b84",
   "metadata": {},
   "outputs": [],
   "source": [
    "tamanho_dados_treinamento = int(len(cotacao) * 0.8)\n",
    "\n",
    "tamanho_dados_treinamento"
   ]
  },
  {
   "cell_type": "markdown",
   "id": "0476d53c",
   "metadata": {},
   "source": [
    "## 3. Separando os dados em treino e teste"
   ]
  },
  {
   "cell_type": "code",
   "execution_count": null,
   "id": "853bec0e",
   "metadata": {},
   "outputs": [],
   "source": [
    "# Escalar os dados entre 0 e 1\n",
    "\n",
    "escalador = MinMaxScaler(feature_range=(0, 1))\n",
    "\n",
    "dados_entre_0_e_1_treinamento = escalador.fit_transform(cotacao[0:tamanho_dados_treinamento, :])\n",
    "\n",
    "dados_entre_0_e_1_teste = escalador.transform(cotacao[tamanho_dados_treinamento: , :])\n",
    "\n",
    "dados_entre_0_e_1 = list(dados_entre_0_e_1_treinamento.reshape(\n",
    "    len(dados_entre_0_e_1_treinamento))) + list(dados_entre_0_e_1_teste.reshape(len(dados_entre_0_e_1_teste)))\n",
    "\n",
    "dados_entre_0_e_1 = np.array(dados_entre_0_e_1).reshape(len(dados_entre_0_e_1), 1)\n",
    "\n",
    "dados_entre_0_e_1"
   ]
  },
  {
   "cell_type": "code",
   "execution_count": null,
   "id": "98960bd4",
   "metadata": {},
   "outputs": [],
   "source": [
    "dados_para_treinamento = dados_entre_0_e_1[0: tamanho_dados_treinamento, :]\n",
    "\n",
    "# dados usados para gerar o resultado\n",
    "treinamento_x = []\n",
    "\n",
    "# cotação real\n",
    "treinamento_y = []\n",
    "\n",
    "for i in range(60, len(dados_para_treinamento)):\n",
    "    \n",
    "    # 60 últimos dias\n",
    "    treinamento_x.append(dados_para_treinamento[i - 60: i, 0])\n",
    "    \n",
    "    # cotação real\n",
    "    treinamento_y.append(dados_para_treinamento[i, 0])\n",
    "    \n",
    "    if i <= 61:\n",
    "        print(treinamento_x)\n",
    "        print(treinamento_y)\n"
   ]
  },
  {
   "cell_type": "code",
   "execution_count": null,
   "id": "22edee66",
   "metadata": {},
   "outputs": [],
   "source": [
    "# Transformando as listas em arrays e dando um reshape, pois o modelo necessida dos dados em 3 Dimensões\n",
    "\n",
    "treinamento_x, treinamento_y = np.array(treinamento_x), np.array(treinamento_y)\n",
    "treinamento_x = treinamento_x.reshape(treinamento_x.shape[0], treinamento_x.shape[1], 1)\n",
    "treinamento_x"
   ]
  },
  {
   "cell_type": "markdown",
   "id": "4812c2ab",
   "metadata": {},
   "source": [
    "## 4.0 Modelo"
   ]
  },
  {
   "cell_type": "code",
   "execution_count": null,
   "id": "1eef62fb",
   "metadata": {},
   "outputs": [],
   "source": [
    "modelo = Sequential()\n",
    "\n",
    "# Modelo com 50 neurônios;\n",
    "# return sequences = True pois usaremos outro LSTM depois;\n",
    "# definir o shape, que no caso são 60 informações para gerar um valor;\n",
    "# adicionar mais neurônios com o dense de 25 e 1\n",
    "\n",
    "modelo.add(LSTM(50, return_sequences=True, input_shape = (treinamento_x.shape[1], 1))) # Modelo de 50 neurônios + return_sequences = True para adicionar mais 50 neurônios\n",
    "modelo.add(LSTM(50, return_sequences=False))\n",
    "modelo.add(Dense(25))\n",
    "modelo.add(Dense(1))\n",
    "\n",
    "treinamento_x.shape[1]"
   ]
  },
  {
   "cell_type": "code",
   "execution_count": null,
   "id": "7a5192d5",
   "metadata": {},
   "outputs": [],
   "source": [
    "# Copilando o modelo\n",
    "\n",
    "# A função de Loss é a forma de medir o ERRO do modelo, que nesse caso é classificado como o Erro Médio Quadrátrico que é\n",
    "# usado na Regresão Linear\n",
    "\n",
    "modelo.compile(optimizer = 'adam', loss='mean_squared_error')"
   ]
  },
  {
   "cell_type": "code",
   "execution_count": null,
   "id": "d1d78269",
   "metadata": {},
   "outputs": [],
   "source": [
    "# Agora com o modelo copilado e os dados, treinaremos o modelo\n",
    "# batch size -> neste caso o modelo irá otimizar os parâmetros a cada novo dado\n",
    "# epochs -> quantas vezes o algoritmo irá rodar os dados de treinamento\n",
    "\n",
    "modelo.fit(treinamento_x, treinamento_y, batch_size=1, epochs=1)"
   ]
  },
  {
   "cell_type": "markdown",
   "id": "d465994e",
   "metadata": {},
   "source": [
    "### 4.1 Modelo de teste"
   ]
  },
  {
   "cell_type": "code",
   "execution_count": null,
   "id": "ffb0b4f5",
   "metadata": {},
   "outputs": [],
   "source": [
    "dados_teste = dados_entre_0_e_1[tamanho_dados_treinamento - 60:, :]\n",
    "\n",
    "teste_x = []\n",
    "teste_y = cotacao[tamanho_dados_treinamento: , :]\n",
    "\n",
    "for i in range(60, len(dados_teste)):\n",
    "    teste_x.append(dados_teste[i - 60: i, 0])"
   ]
  },
  {
   "cell_type": "code",
   "execution_count": null,
   "id": "d1ebd492",
   "metadata": {},
   "outputs": [],
   "source": [
    "# reshape\n",
    "\n",
    "teste_x = np.array(teste_x)\n",
    "teste_x = teste_x.reshape(teste_x.shape[0], teste_x.shape[1], 1)"
   ]
  },
  {
   "cell_type": "markdown",
   "id": "0268f593",
   "metadata": {},
   "source": [
    "### 4.2 Predições do Modelo"
   ]
  },
  {
   "cell_type": "code",
   "execution_count": null,
   "id": "fdca9360",
   "metadata": {},
   "outputs": [],
   "source": [
    "predicoes = modelo.predict(teste_x)\n",
    "\n",
    "# Tirando a escala dos dados\n",
    "predicoes = escalador.inverse_transform(predicoes)\n",
    "\n",
    "predicoes"
   ]
  },
  {
   "cell_type": "markdown",
   "id": "bea5f711",
   "metadata": {},
   "source": [
    "### 4.3 Erro Médio Quadrático"
   ]
  },
  {
   "cell_type": "code",
   "execution_count": null,
   "id": "36077853",
   "metadata": {},
   "outputs": [],
   "source": [
    "rmse = np.sqrt(np.mean(predicoes - teste_y) ** 2)\n",
    "rmse"
   ]
  },
  {
   "cell_type": "code",
   "execution_count": null,
   "id": "155f076f",
   "metadata": {},
   "outputs": [],
   "source": [
    "# Criando o gráfico do modelo\n",
    "\n",
    "treinamento = dados_acao.iloc[:tamanho_dados_treinamento, :]\n",
    "df_teste = pd.DataFrame({'Close': dados_acao['Close'].iloc[tamanho_dados_treinamento:],\n",
    "                        'predicoes': predicoes.reshape(len(predicoes))})"
   ]
  },
  {
   "cell_type": "code",
   "execution_count": null,
   "id": "097d939b",
   "metadata": {},
   "outputs": [],
   "source": [
    "plt.figure(figsize = (16, 8))\n",
    "plt.title('Modelo')\n",
    "plt.xlabel('Data', fontsize = 20)\n",
    "plt.ylabel('Preço de fechamento', fontsize = 20)\n",
    "plt.plot(treinamento['Close'])\n",
    "plt.plot(df_teste[['Close', 'predicoes']])\n",
    "plt.legend(['Treinamento', 'Real', 'Predições'], loc = 2, prop={'size' = '16')"
   ]
  }
 ],
 "metadata": {
  "kernelspec": {
   "display_name": "Python 3 (ipykernel)",
   "language": "python",
   "name": "python3"
  },
  "language_info": {
   "codemirror_mode": {
    "name": "ipython",
    "version": 3
   },
   "file_extension": ".py",
   "mimetype": "text/x-python",
   "name": "python",
   "nbconvert_exporter": "python",
   "pygments_lexer": "ipython3",
   "version": "3.10.9"
  }
 },
 "nbformat": 4,
 "nbformat_minor": 5
}
