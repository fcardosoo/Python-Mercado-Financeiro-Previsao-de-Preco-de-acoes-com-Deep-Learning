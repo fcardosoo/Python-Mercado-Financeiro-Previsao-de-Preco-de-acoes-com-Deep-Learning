{
 "cells": [
  {
   "cell_type": "markdown",
   "id": "e78a076a",
   "metadata": {},
   "source": [
    "# Modelo de DEEP LEARNING baseado na memória de curto prazo - LSTM"
   ]
  },
  {
   "cell_type": "markdown",
   "id": "e2b3d3b2",
   "metadata": {},
   "source": [
    "## 1. Bibliotecas"
   ]
  },
  {
   "cell_type": "code",
   "execution_count": 1,
   "id": "bb86c0b2",
   "metadata": {},
   "outputs": [],
   "source": [
    "import math\n",
    "import numpy                  as np\n",
    "import pandas                 as pd\n",
    "import yfinance               as yf\n",
    "\n",
    "import matplotlib.pyplot      as plt\n",
    "\n",
    "from datetime                 import datetime\n",
    "from datetime                 import timedelta\n",
    "\n",
    "from sklearn.preprocessing    import MinMaxScaler\n",
    "\n",
    "from keras.models             import Sequential\n",
    "from keras.layers             import Dense, LSTM\n",
    "\n",
    "# pd.options.mode.chained_assigment = None"
   ]
  },
  {
   "cell_type": "markdown",
   "id": "480ac3be",
   "metadata": {},
   "source": [
    "## 2. Ativo de interesse"
   ]
  },
  {
   "cell_type": "code",
   "execution_count": 2,
   "id": "5859645b",
   "metadata": {},
   "outputs": [
    {
     "name": "stdout",
     "output_type": "stream",
     "text": [
      "[*********************100%***********************]  1 of 1 completed\n"
     ]
    },
    {
     "data": {
      "text/html": [
       "<div>\n",
       "<style scoped>\n",
       "    .dataframe tbody tr th:only-of-type {\n",
       "        vertical-align: middle;\n",
       "    }\n",
       "\n",
       "    .dataframe tbody tr th {\n",
       "        vertical-align: top;\n",
       "    }\n",
       "\n",
       "    .dataframe thead th {\n",
       "        text-align: right;\n",
       "    }\n",
       "</style>\n",
       "<table border=\"1\" class=\"dataframe\">\n",
       "  <thead>\n",
       "    <tr style=\"text-align: right;\">\n",
       "      <th></th>\n",
       "      <th>Open</th>\n",
       "      <th>High</th>\n",
       "      <th>Low</th>\n",
       "      <th>Close</th>\n",
       "      <th>Adj Close</th>\n",
       "      <th>Volume</th>\n",
       "    </tr>\n",
       "    <tr>\n",
       "      <th>Date</th>\n",
       "      <th></th>\n",
       "      <th></th>\n",
       "      <th></th>\n",
       "      <th></th>\n",
       "      <th></th>\n",
       "      <th></th>\n",
       "    </tr>\n",
       "  </thead>\n",
       "  <tbody>\n",
       "    <tr>\n",
       "      <th>2015-01-02</th>\n",
       "      <td>0.243750</td>\n",
       "      <td>0.243750</td>\n",
       "      <td>0.231562</td>\n",
       "      <td>0.232812</td>\n",
       "      <td>0.215259</td>\n",
       "      <td>6323200</td>\n",
       "    </tr>\n",
       "    <tr>\n",
       "      <th>2015-01-05</th>\n",
       "      <td>0.235625</td>\n",
       "      <td>0.240625</td>\n",
       "      <td>0.229687</td>\n",
       "      <td>0.237187</td>\n",
       "      <td>0.219304</td>\n",
       "      <td>10326400</td>\n",
       "    </tr>\n",
       "    <tr>\n",
       "      <th>2015-01-06</th>\n",
       "      <td>0.238437</td>\n",
       "      <td>0.238437</td>\n",
       "      <td>0.233125</td>\n",
       "      <td>0.234062</td>\n",
       "      <td>0.216414</td>\n",
       "      <td>12572800</td>\n",
       "    </tr>\n",
       "    <tr>\n",
       "      <th>2015-01-07</th>\n",
       "      <td>0.237500</td>\n",
       "      <td>0.242187</td>\n",
       "      <td>0.234687</td>\n",
       "      <td>0.241875</td>\n",
       "      <td>0.223638</td>\n",
       "      <td>6454400</td>\n",
       "    </tr>\n",
       "    <tr>\n",
       "      <th>2015-01-08</th>\n",
       "      <td>0.239375</td>\n",
       "      <td>0.242187</td>\n",
       "      <td>0.237500</td>\n",
       "      <td>0.240000</td>\n",
       "      <td>0.221905</td>\n",
       "      <td>8393600</td>\n",
       "    </tr>\n",
       "    <tr>\n",
       "      <th>...</th>\n",
       "      <td>...</td>\n",
       "      <td>...</td>\n",
       "      <td>...</td>\n",
       "      <td>...</td>\n",
       "      <td>...</td>\n",
       "      <td>...</td>\n",
       "    </tr>\n",
       "    <tr>\n",
       "      <th>2023-05-19</th>\n",
       "      <td>3.580000</td>\n",
       "      <td>3.730000</td>\n",
       "      <td>3.530000</td>\n",
       "      <td>3.640000</td>\n",
       "      <td>3.640000</td>\n",
       "      <td>146332000</td>\n",
       "    </tr>\n",
       "    <tr>\n",
       "      <th>2023-05-22</th>\n",
       "      <td>3.670000</td>\n",
       "      <td>3.870000</td>\n",
       "      <td>3.660000</td>\n",
       "      <td>3.800000</td>\n",
       "      <td>3.800000</td>\n",
       "      <td>126815600</td>\n",
       "    </tr>\n",
       "    <tr>\n",
       "      <th>2023-05-23</th>\n",
       "      <td>3.830000</td>\n",
       "      <td>3.840000</td>\n",
       "      <td>3.640000</td>\n",
       "      <td>3.660000</td>\n",
       "      <td>3.660000</td>\n",
       "      <td>114830900</td>\n",
       "    </tr>\n",
       "    <tr>\n",
       "      <th>2023-05-24</th>\n",
       "      <td>3.510000</td>\n",
       "      <td>3.720000</td>\n",
       "      <td>3.480000</td>\n",
       "      <td>3.630000</td>\n",
       "      <td>3.630000</td>\n",
       "      <td>105054300</td>\n",
       "    </tr>\n",
       "    <tr>\n",
       "      <th>2023-05-25</th>\n",
       "      <td>3.740000</td>\n",
       "      <td>3.820000</td>\n",
       "      <td>3.720000</td>\n",
       "      <td>3.760000</td>\n",
       "      <td>3.760000</td>\n",
       "      <td>119519600</td>\n",
       "    </tr>\n",
       "  </tbody>\n",
       "</table>\n",
       "<p>2087 rows × 6 columns</p>\n",
       "</div>"
      ],
      "text/plain": [
       "                Open      High       Low     Close  Adj Close     Volume\n",
       "Date                                                                    \n",
       "2015-01-02  0.243750  0.243750  0.231562  0.232812   0.215259    6323200\n",
       "2015-01-05  0.235625  0.240625  0.229687  0.237187   0.219304   10326400\n",
       "2015-01-06  0.238437  0.238437  0.233125  0.234062   0.216414   12572800\n",
       "2015-01-07  0.237500  0.242187  0.234687  0.241875   0.223638    6454400\n",
       "2015-01-08  0.239375  0.242187  0.237500  0.240000   0.221905    8393600\n",
       "...              ...       ...       ...       ...        ...        ...\n",
       "2023-05-19  3.580000  3.730000  3.530000  3.640000   3.640000  146332000\n",
       "2023-05-22  3.670000  3.870000  3.660000  3.800000   3.800000  126815600\n",
       "2023-05-23  3.830000  3.840000  3.640000  3.660000   3.660000  114830900\n",
       "2023-05-24  3.510000  3.720000  3.480000  3.630000   3.630000  105054300\n",
       "2023-05-25  3.740000  3.820000  3.720000  3.760000   3.760000  119519600\n",
       "\n",
       "[2087 rows x 6 columns]"
      ]
     },
     "execution_count": 2,
     "metadata": {},
     "output_type": "execute_result"
    }
   ],
   "source": [
    "acao = 'MGLU3.SA'\n",
    "\n",
    "inicio = '2014-12-31'\n",
    "final  = '2023-05-26'\n",
    "\n",
    "dados_acao = yf.download(acao, inicio, final)\n",
    "\n",
    "dados_acao"
   ]
  },
  {
   "cell_type": "code",
   "execution_count": 3,
   "id": "cbf65467",
   "metadata": {},
   "outputs": [
    {
     "data": {
      "text/plain": [
       "array([[0.232812  ],\n",
       "       [0.237187  ],\n",
       "       [0.234062  ],\n",
       "       ...,\n",
       "       [3.66000009],\n",
       "       [3.63000011],\n",
       "       [3.75999999]])"
      ]
     },
     "execution_count": 3,
     "metadata": {},
     "output_type": "execute_result"
    }
   ],
   "source": [
    "# Selecionaremos o valor de fechamento 'Close', ao invés da cotação ajustada 'Adj Close' (mais comunmente encontrada\n",
    "# nos modelos de financças), pois precisamos de uma cotação real;\n",
    "\n",
    "cotacao = dados_acao['Close'].to_numpy().reshape(-1, 1) # reescalando os dados com o numpy\n",
    "cotacao"
   ]
  },
  {
   "cell_type": "code",
   "execution_count": 4,
   "id": "60627bf0",
   "metadata": {},
   "outputs": [
    {
     "data": {
      "text/plain": [
       "1669"
      ]
     },
     "execution_count": 4,
     "metadata": {},
     "output_type": "execute_result"
    }
   ],
   "source": [
    "tamanho_dados_treinamento = int(len(cotacao) * 0.8)\n",
    "\n",
    "tamanho_dados_treinamento"
   ]
  },
  {
   "cell_type": "markdown",
   "id": "b2bbd472",
   "metadata": {},
   "source": [
    "## 3. Separando os dados em treino e teste"
   ]
  },
  {
   "cell_type": "code",
   "execution_count": 5,
   "id": "0e96bcf4",
   "metadata": {},
   "outputs": [
    {
     "data": {
      "text/plain": [
       "array([[0.00737532],\n",
       "       [0.00753488],\n",
       "       [0.00742091],\n",
       "       ...,\n",
       "       [0.13236661],\n",
       "       [0.13127249],\n",
       "       [0.13601366]])"
      ]
     },
     "execution_count": 5,
     "metadata": {},
     "output_type": "execute_result"
    }
   ],
   "source": [
    "# Escalar os dados entre 0 e 1\n",
    "\n",
    "escalador = MinMaxScaler(feature_range=(0, 1))\n",
    "\n",
    "dados_entre_0_e_1_treinamento = escalador.fit_transform(cotacao[0:tamanho_dados_treinamento, :])\n",
    "\n",
    "dados_entre_0_e_1_teste = escalador.transform(cotacao[tamanho_dados_treinamento: , :])\n",
    "\n",
    "dados_entre_0_e_1 = list(dados_entre_0_e_1_treinamento.reshape(\n",
    "    len(dados_entre_0_e_1_treinamento))) + list(dados_entre_0_e_1_teste.reshape(len(dados_entre_0_e_1_teste)))\n",
    "\n",
    "dados_entre_0_e_1 = np.array(dados_entre_0_e_1).reshape(len(dados_entre_0_e_1), 1)\n",
    "\n",
    "dados_entre_0_e_1"
   ]
  },
  {
   "cell_type": "code",
   "execution_count": 6,
   "id": "490e8317",
   "metadata": {},
   "outputs": [
    {
     "name": "stdout",
     "output_type": "stream",
     "text": [
      "[array([0.00737532, 0.00753488, 0.00742091, 0.00770585, 0.00763747,\n",
      "       0.00734115, 0.00743232, 0.00734115, 0.00720438, 0.00718159,\n",
      "       0.00724997, 0.00720438, 0.00686247, 0.00691944, 0.00688527,\n",
      "       0.00691944, 0.00686247, 0.00663453, 0.00641797, 0.0066915 ,\n",
      "       0.00663453, 0.00668012, 0.006361  , 0.00628121, 0.00617865,\n",
      "       0.00582532, 0.00575694, 0.00588233, 0.00549483, 0.0056088 ,\n",
      "       0.00582532, 0.00585953, 0.00613306, 0.00612165, 0.00620145,\n",
      "       0.00640659, 0.00622424, 0.0063838 , 0.00577974, 0.00581395,\n",
      "       0.00558601, 0.00520988, 0.0051415 , 0.00495915, 0.00466283,\n",
      "       0.00491356, 0.00486797, 0.00515292, 0.00487939, 0.00469704,\n",
      "       0.00462865, 0.00457165, 0.00468562, 0.00470842, 0.00470842,\n",
      "       0.00466283, 0.00458307, 0.00456027, 0.00452606, 0.00462865])]\n",
      "[0.004685621274704243]\n",
      "[array([0.00737532, 0.00753488, 0.00742091, 0.00770585, 0.00763747,\n",
      "       0.00734115, 0.00743232, 0.00734115, 0.00720438, 0.00718159,\n",
      "       0.00724997, 0.00720438, 0.00686247, 0.00691944, 0.00688527,\n",
      "       0.00691944, 0.00686247, 0.00663453, 0.00641797, 0.0066915 ,\n",
      "       0.00663453, 0.00668012, 0.006361  , 0.00628121, 0.00617865,\n",
      "       0.00582532, 0.00575694, 0.00588233, 0.00549483, 0.0056088 ,\n",
      "       0.00582532, 0.00585953, 0.00613306, 0.00612165, 0.00620145,\n",
      "       0.00640659, 0.00622424, 0.0063838 , 0.00577974, 0.00581395,\n",
      "       0.00558601, 0.00520988, 0.0051415 , 0.00495915, 0.00466283,\n",
      "       0.00491356, 0.00486797, 0.00515292, 0.00487939, 0.00469704,\n",
      "       0.00462865, 0.00457165, 0.00468562, 0.00470842, 0.00470842,\n",
      "       0.00466283, 0.00458307, 0.00456027, 0.00452606, 0.00462865]), array([0.00753488, 0.00742091, 0.00770585, 0.00763747, 0.00734115,\n",
      "       0.00743232, 0.00734115, 0.00720438, 0.00718159, 0.00724997,\n",
      "       0.00720438, 0.00686247, 0.00691944, 0.00688527, 0.00691944,\n",
      "       0.00686247, 0.00663453, 0.00641797, 0.0066915 , 0.00663453,\n",
      "       0.00668012, 0.006361  , 0.00628121, 0.00617865, 0.00582532,\n",
      "       0.00575694, 0.00588233, 0.00549483, 0.0056088 , 0.00582532,\n",
      "       0.00585953, 0.00613306, 0.00612165, 0.00620145, 0.00640659,\n",
      "       0.00622424, 0.0063838 , 0.00577974, 0.00581395, 0.00558601,\n",
      "       0.00520988, 0.0051415 , 0.00495915, 0.00466283, 0.00491356,\n",
      "       0.00486797, 0.00515292, 0.00487939, 0.00469704, 0.00462865,\n",
      "       0.00457165, 0.00468562, 0.00470842, 0.00470842, 0.00466283,\n",
      "       0.00458307, 0.00456027, 0.00452606, 0.00462865, 0.00468562])]\n",
      "[0.004685621274704243, 0.004856594819842205]\n"
     ]
    }
   ],
   "source": [
    "dados_para_treinamento = dados_entre_0_e_1[0: tamanho_dados_treinamento, :]\n",
    "\n",
    "# dados usados para gerar o resultado\n",
    "treinamento_x = []\n",
    "\n",
    "# cotação real\n",
    "treinamento_y = []\n",
    "\n",
    "for i in range(60, len(dados_para_treinamento)):\n",
    "    \n",
    "    # 60 últimos dias\n",
    "    treinamento_x.append(dados_para_treinamento[i - 60: i, 0])\n",
    "    \n",
    "    # cotação real\n",
    "    treinamento_y.append(dados_para_treinamento[i, 0])\n",
    "    \n",
    "    if i <= 61:\n",
    "        print(treinamento_x)\n",
    "        print(treinamento_y)\n"
   ]
  },
  {
   "cell_type": "code",
   "execution_count": 8,
   "id": "680fc0ad",
   "metadata": {},
   "outputs": [
    {
     "data": {
      "text/plain": [
       "array([[[0.00737532],\n",
       "        [0.00753488],\n",
       "        [0.00742091],\n",
       "        ...,\n",
       "        [0.00456027],\n",
       "        [0.00452606],\n",
       "        [0.00462865]],\n",
       "\n",
       "       [[0.00753488],\n",
       "        [0.00742091],\n",
       "        [0.00770585],\n",
       "        ...,\n",
       "        [0.00452606],\n",
       "        [0.00462865],\n",
       "        [0.00468562]],\n",
       "\n",
       "       [[0.00742091],\n",
       "        [0.00770585],\n",
       "        [0.00763747],\n",
       "        ...,\n",
       "        [0.00462865],\n",
       "        [0.00468562],\n",
       "        [0.00485659]],\n",
       "\n",
       "       ...,\n",
       "\n",
       "       [[0.76367106],\n",
       "        [0.74944758],\n",
       "        [0.78847102],\n",
       "        ...,\n",
       "        [0.63493021],\n",
       "        [0.61997731],\n",
       "        [0.60502441]],\n",
       "\n",
       "       [[0.74944758],\n",
       "        [0.78847102],\n",
       "        [0.77898868],\n",
       "        ...,\n",
       "        [0.61997731],\n",
       "        [0.60502441],\n",
       "        [0.59590678]],\n",
       "\n",
       "       [[0.78847102],\n",
       "        [0.77898868],\n",
       "        [0.78409459],\n",
       "        ...,\n",
       "        [0.60502441],\n",
       "        [0.59590678],\n",
       "        [0.60320084]]])"
      ]
     },
     "execution_count": 8,
     "metadata": {},
     "output_type": "execute_result"
    }
   ],
   "source": [
    "# Transformando as listas em arrays e dando um reshape, pois o modelo necessida dos dados em 3 Dimensões\n",
    "\n",
    "treinamento_x, treinamento_y = np.array(treinamento_x), np.array(treinamento_y)\n",
    "treinamento_x = treinamento_x.reshape(treinamento_x.shape[0], treinamento_x.shape[1], 1)\n",
    "treinamento_x"
   ]
  },
  {
   "cell_type": "markdown",
   "id": "552c557e",
   "metadata": {},
   "source": [
    "## 4.0 Modelo"
   ]
  },
  {
   "cell_type": "code",
   "execution_count": 10,
   "id": "12eff0b5",
   "metadata": {},
   "outputs": [
    {
     "data": {
      "text/plain": [
       "60"
      ]
     },
     "execution_count": 10,
     "metadata": {},
     "output_type": "execute_result"
    }
   ],
   "source": [
    "modelo = Sequential()\n",
    "\n",
    "# Modelo com 50 neurônios;\n",
    "# return sequences = True pois usaremos outro LSTM depois;\n",
    "# definir o shape, que no caso são 60 informações para gerar um valor;\n",
    "# adicionar mais neurônios com o dense de 25 e 1\n",
    "\n",
    "modelo.add(LSTM(50, return_sequences=True, input_shape = (treinamento_x.shape[1], 1))) # Modelo de 50 neurônios + return_sequences = True para adicionar mais 50 neurônios\n",
    "modelo.add(LSTM(50, return_sequences=False))\n",
    "modelo.add(Dense(25))\n",
    "modelo.add(Dense(1))\n",
    "\n",
    "treinamento_x.shape[1]"
   ]
  },
  {
   "cell_type": "code",
   "execution_count": 11,
   "id": "754bdab7",
   "metadata": {},
   "outputs": [],
   "source": [
    "# Copilando o modelo\n",
    "\n",
    "# A função de Loss é a forma de medir o ERRO do modelo, que nesse caso é classificado como o Erro Médio Quadrátrico que é\n",
    "# usado na Regresão Linear\n",
    "\n",
    "modelo.compile(optimizer = 'adam', loss='mean_squared_error')"
   ]
  },
  {
   "cell_type": "code",
   "execution_count": 12,
   "id": "17e67ce7",
   "metadata": {},
   "outputs": [
    {
     "name": "stdout",
     "output_type": "stream",
     "text": [
      "1609/1609 [==============================] - 39s 21ms/step - loss: 0.0023\n"
     ]
    },
    {
     "data": {
      "text/plain": [
       "<keras.callbacks.History at 0x2d2d88add80>"
      ]
     },
     "execution_count": 12,
     "metadata": {},
     "output_type": "execute_result"
    }
   ],
   "source": [
    "# Agora com o modelo copilado e os dados, treinaremos o modelo\n",
    "# batch size -> neste caso o modelo irá otimizar os parâmetros a cada novo dado\n",
    "# epochs -> quantas vezes o algoritmo irá rodar os dados de treinamento\n",
    "\n",
    "modelo.fit(treinamento_x, treinamento_y, batch_size=1, epochs=1)"
   ]
  },
  {
   "cell_type": "markdown",
   "id": "61ef27c9",
   "metadata": {},
   "source": [
    "### 4.1 Modelo de teste"
   ]
  },
  {
   "cell_type": "code",
   "execution_count": null,
   "id": "08ca9e29",
   "metadata": {},
   "outputs": [],
   "source": [
    "dados_teste = dados_entre_0_e_1[tamanho_dados_treinamento - 60:, :]\n",
    "\n",
    "teste_x = []\n",
    "teste_y = cotacao[tamenho_dados_treinamento: , :]\n",
    "\n",
    "for i in range(60)"
   ]
  }
 ],
 "metadata": {
  "kernelspec": {
   "display_name": "Python 3 (ipykernel)",
   "language": "python",
   "name": "python3"
  },
  "language_info": {
   "codemirror_mode": {
    "name": "ipython",
    "version": 3
   },
   "file_extension": ".py",
   "mimetype": "text/x-python",
   "name": "python",
   "nbconvert_exporter": "python",
   "pygments_lexer": "ipython3",
   "version": "3.10.9"
  }
 },
 "nbformat": 4,
 "nbformat_minor": 5
}
